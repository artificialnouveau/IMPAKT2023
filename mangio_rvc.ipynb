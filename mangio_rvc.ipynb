{
 "cells": [
  {
   "cell_type": "code",
   "execution_count": 1,
   "metadata": {},
   "outputs": [],
   "source": [
    "import time\n",
    "from datetime import datetime\n",
    "from IPython.display import clear_output\n",
    "\n",
    "def elapsed_time(start):\n",
    "  print(\"Time (mins) it took to run this cell: \", round((time.time()- start)/60,2))"
   ]
  },
  {
   "cell_type": "code",
   "execution_count": 2,
   "metadata": {},
   "outputs": [
    {
     "name": "stdout",
     "output_type": "stream",
     "text": [
      "Time (mins) it took to run this cell:  0.46\n"
     ]
    }
   ],
   "source": [
    "start = time.time()\n",
    "!git clone https://github.com/artificialnouveau/Mangio-Kalo-Tweaks.git\n",
    "%cd Mangio-Kalo-Tweaks\n",
    "# !pip install -r requirements.txt\n",
    "\n",
    "!mkdir pretrained\n",
    "!mkdir uvr5_weights\n",
    "\n",
    "!wget https://huggingface.co/lj1995/VoiceConversionWebUI/resolve/main/hubert_base.pt\n",
    "\n",
    "pretrained_front_pt = ['D', 'G', 'f0D', 'f0G']\n",
    "pretrained_end_pt = ['32k.pth', '40k.pth', '48k.pth']\n",
    "\n",
    "for front in pretrained_front_pt:\n",
    "    for end in pretrained_end_pt:\n",
    "        filename = f\"{front}{end}\"\n",
    "        url = f\"https://huggingface.co/lj1995/VoiceConversionWebUI/resolve/main/pretrained/{filename}\"\n",
    "        !wget -P ./pretrained/ $url\n",
    "        url = f\"https://huggingface.co/lj1995/VoiceConversionWebUI/resolve/main/pretrained_v2/{filename}\"\n",
    "        !wget -P ./pretrained_v2/ $url\n",
    "\n",
    "for pth in ['HP2-人声vocals%2B非人声instrumentals.pth','HP2_all_vocals.pth', 'HP3_all_vocals.pth',\n",
    "            'HP5-主旋律人声vocals%2B其他instrumentals.pth','HP5_only_main_vocal.pth',\n",
    "            'VR-DeEchoAggressive.pth','VR-DeEchoDeReverb.pth','VR-DeEchoNormal.pth']:\n",
    "            url = f\"https://huggingface.co/lj1995/VoiceConversionWebUI/resolve/main/uvr5_weights/{pth}\"\n",
    "            !wget -P ./uvr5_weights/ $url\n",
    "\n",
    "!wget -P ./uvr5_weights/ https://huggingface.co/lj1995/VoiceConversionWebUI/blob/main/uvr5_weights/onnx_dereverb_By_FoxJoy/vocals.onnx\n",
    "clear_output(wait=True)\n",
    "elapsed_time(start)"
   ]
  },
  {
   "cell_type": "code",
   "execution_count": 13,
   "metadata": {},
   "outputs": [
    {
     "ename": "ImportError",
     "evalue": "cannot import name 'FFmpeg' from 'ffmpy' (c:\\Users\\ahnji\\anaconda3\\envs\\mangio\\lib\\site-packages\\ffmpy\\__init__.py)",
     "output_type": "error",
     "traceback": [
      "\u001b[1;31m---------------------------------------------------------------------------\u001b[0m",
      "\u001b[1;31mImportError\u001b[0m                               Traceback (most recent call last)",
      "File \u001b[1;32m~\\rfv-models\\Mangio-Kalo-Tweaks\\infer-web.py:28\u001b[0m\n\u001b[0;32m     26\u001b[0m \u001b[39mimport\u001b[39;00m \u001b[39mfaiss\u001b[39;00m\n\u001b[0;32m     27\u001b[0m \u001b[39mimport\u001b[39;00m \u001b[39mffmpeg\u001b[39;00m\n\u001b[1;32m---> 28\u001b[0m \u001b[39mimport\u001b[39;00m \u001b[39mgradio\u001b[39;00m \u001b[39mas\u001b[39;00m \u001b[39mgr\u001b[39;00m\n\u001b[0;32m     29\u001b[0m \u001b[39mimport\u001b[39;00m \u001b[39msoundfile\u001b[39;00m \u001b[39mas\u001b[39;00m \u001b[39msf\u001b[39;00m\n\u001b[0;32m     30\u001b[0m \u001b[39mfrom\u001b[39;00m \u001b[39mconfig\u001b[39;00m \u001b[39mimport\u001b[39;00m Config\n",
      "File \u001b[1;32mc:\\Users\\ahnji\\anaconda3\\envs\\mangio\\lib\\site-packages\\gradio\\__init__.py:3\u001b[0m\n\u001b[0;32m      1\u001b[0m \u001b[39mimport\u001b[39;00m \u001b[39mpkgutil\u001b[39;00m\n\u001b[1;32m----> 3\u001b[0m \u001b[39mimport\u001b[39;00m \u001b[39mgradio\u001b[39;00m\u001b[39m.\u001b[39;00m\u001b[39mcomponents\u001b[39;00m \u001b[39mas\u001b[39;00m \u001b[39mcomponents\u001b[39;00m\n\u001b[0;32m      4\u001b[0m \u001b[39mimport\u001b[39;00m \u001b[39mgradio\u001b[39;00m\u001b[39m.\u001b[39;00m\u001b[39minputs\u001b[39;00m \u001b[39mas\u001b[39;00m \u001b[39minputs\u001b[39;00m\n\u001b[0;32m      5\u001b[0m \u001b[39mimport\u001b[39;00m \u001b[39mgradio\u001b[39;00m\u001b[39m.\u001b[39;00m\u001b[39moutputs\u001b[39;00m \u001b[39mas\u001b[39;00m \u001b[39moutputs\u001b[39;00m\n",
      "File \u001b[1;32mc:\\Users\\ahnji\\anaconda3\\envs\\mangio\\lib\\site-packages\\gradio\\components.py:33\u001b[0m\n\u001b[0;32m     31\u001b[0m \u001b[39mimport\u001b[39;00m \u001b[39mrequests\u001b[39;00m\n\u001b[0;32m     32\u001b[0m \u001b[39mfrom\u001b[39;00m \u001b[39mfastapi\u001b[39;00m \u001b[39mimport\u001b[39;00m UploadFile\n\u001b[1;32m---> 33\u001b[0m \u001b[39mfrom\u001b[39;00m \u001b[39mffmpy\u001b[39;00m \u001b[39mimport\u001b[39;00m FFmpeg\n\u001b[0;32m     34\u001b[0m \u001b[39mfrom\u001b[39;00m \u001b[39mgradio_client\u001b[39;00m \u001b[39mimport\u001b[39;00m media_data\n\u001b[0;32m     35\u001b[0m \u001b[39mfrom\u001b[39;00m \u001b[39mgradio_client\u001b[39;00m \u001b[39mimport\u001b[39;00m utils \u001b[39mas\u001b[39;00m client_utils\n",
      "\u001b[1;31mImportError\u001b[0m: cannot import name 'FFmpeg' from 'ffmpy' (c:\\Users\\ahnji\\anaconda3\\envs\\mangio\\lib\\site-packages\\ffmpy\\__init__.py)"
     ]
    }
   ],
   "source": [
    "# %run infer-web.py --pycmd python --is_cli"
   ]
  }
 ],
 "metadata": {
  "kernelspec": {
   "display_name": "mangio",
   "language": "python",
   "name": "python3"
  },
  "language_info": {
   "codemirror_mode": {
    "name": "ipython",
    "version": 3
   },
   "file_extension": ".py",
   "mimetype": "text/x-python",
   "name": "python",
   "nbconvert_exporter": "python",
   "pygments_lexer": "ipython3",
   "version": "3.8.18"
  }
 },
 "nbformat": 4,
 "nbformat_minor": 2
}
