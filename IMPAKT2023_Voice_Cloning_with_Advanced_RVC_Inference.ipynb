{
  "cells": [
    {
      "cell_type": "markdown",
      "source": [
        "Here's how to use Google Colab for a complete beginner:\n",
        "\n",
        "1. **Access the Notebook:**\n",
        "   - When you receive a link to a Google Colab notebook, click on it to open the notebook in your web browser.\n",
        "\n",
        "2. **Save Your Own Copy:**\n",
        "   - If you want to ensure you have a personal copy that you can edit or if you want to keep the code for later use, go to the 'File' menu at the top-left corner of the notebook and select 'Save a copy in Drive'. This will create a copy of the notebook in your own Google Drive.\n",
        "\n",
        "3. **Running the Notebook:**\n",
        "   - To run the notebook, you can simply click on the play button next to each code cell. It's important to run the cells in the order they are presented, as they may depend on each other.\n",
        "   - You should not change any of the code unless you are familiar with Python and the purpose of the notebook.\n",
        "\n",
        "4. **Limited Activity Time:**\n",
        "   - Google Colab provides a runtime environment with limited activity time. If you are inactive for a while or reach the maximum execution time, your session will end, and you may lose any unsaved work. Therefore, it's good to frequently save your progress, especially after making significant changes or completing important sections.\n",
        "\n",
        "5. **Reconnect if Needed:**\n",
        "   - If your Colab session becomes inactive or disconnects, you can typically reconnect by clicking on the 'Connect' button at the top-right of the notebook interface. You may have to re-run some cells to restore your session state.\n"
      ],
      "metadata": {
        "id": "5De3CqdYG_Ne"
      }
    },
    {
      "cell_type": "markdown",
      "source": [
        "**Retrieval-based-Voice-Conversion-WebUI:**\n",
        "\n",
        "- It's a user-friendly framework for voice conversion that's built on top of VITS (Variational Inference for Text-to-Speech) and HIFIGAN.\n",
        "- The tool includes easy-to-use WebUI for training and real-time voice conversion.\n",
        "- It uses a high-quality VCTK dataset for pre-training.\n",
        "- RVCv3 is an upcoming pre-trained model that promises larger parameters, more data, better results, and unchanged inference speed while requiring less data for training.\n",
        "\n",
        "\n",
        "**How RVC uses VITS and HiFi-GAN for voice conversion:**\n",
        "\n",
        "VITS (Variational Inference Text-to-Speech) is an end-to-end neural network model for text-to-speech (TTS) synthesis that combines variational autoencoders (VAEs) with adversarial training (from GANs). In the context of voice conversion, VITS can be adapted to convert the characteristics of one voice to another while maintaining the linguistic content of the original speech.\n",
        "\n",
        "HiFi-GAN is a high-fidelity generative adversarial network for generating audio waveforms. It's known for its ability to produce high-quality audio at a low computational cost.\n",
        "\n",
        "For voice conversion, RVC uses VITS as a backbone to capture the linguistic features and content of the source speech, while applying the target voice's characteristics to generate a new speech sample in the target voice. HiFi-GAN may then be used to refine the audio quality of the converted voice, ensuring that the final output sounds clear and natural.\n",
        "\n",
        "This combination allows RVC to perform voice conversion while preserving the clarity and naturalness of the speech, which is critical for applications like voice dubbing, personalized TTS, and more.\n",
        "\n",
        "\n",
        "RVC AI COVER GUIDE:\n",
        "\n",
        "https://docs.google.com/document/d/13_l1bd1Osgz7qlAZn-zhklCbHpVRk6bYOuAuB78qmsE/edit?usp=sharing\n",
        "RVC VOICE TRAINING GUIDE:\n",
        "\n",
        "https://docs.google.com/document/d/13ebnzmeEBc6uzYCMt-QVFQk-whVrK4zw8k7_Lw3Bv_A/edit?usp=sharing\n",
        "\n",
        "\n",
        "## Ethical Considerations\n",
        "\n",
        "As you explore the capabilities of RVC, it's important to keep ethical considerations in mind:\n",
        "\n",
        "    Consent: Always have permission to use someone’s likeness and voice when creating talking head videos. Never use someone's image or voice without their explicit consent.\n",
        "\n",
        "    Avoidance of Deception: Be particularly careful to avoid using voice conversion to create deepfake audio or any form of media meant to deceive, manipulate, or mislead audiences.\n",
        "\n",
        "    Respect and Dignity: Ensure that the content created with RVC respects the dignity of the individuals whose images and voices are being used. Avoid creating content that could be considered defamatory, discriminatory, or offensive.\n",
        "\n",
        "    Deepfakes and Manipulation: Be aware of the implications of creating deepfakes — videos that could be used to deceive viewers. Always clearly label the content created with RVC as synthetic media.\n",
        "\n",
        "    Legal Compliance: Abide by all relevant laws and regulations regarding synthetic media, intellectual property rights, and personal privacy.\n",
        "\n",
        "    Responsible Sharing: When sharing content created with RVC, consider the impact it may have on the subjects depicted and society at large. Share responsibly and with a clear indication of the video's synthetic nature.\n",
        "\n"
      ],
      "metadata": {
        "id": "bGl9dt6c_1nV"
      }
    },
    {
      "cell_type": "code",
      "execution_count": null,
      "metadata": {
        "id": "z7qhJ_Ee9gUX"
      },
      "outputs": [],
      "source": [
        "#@title Check GPU\n",
        "!nvidia-smi"
      ]
    },
    {
      "cell_type": "code",
      "execution_count": null,
      "metadata": {
        "id": "3fZ58lNy9gUb"
      },
      "outputs": [],
      "source": [
        "#@title Install Dependencies & Download Hubert & RMVPE Model\n",
        "!apt-get update\n",
        "!apt-get install -qq -y aria2\n",
        "!git clone -b master https://github.com/ArkanDash/Advanced-RVC-Inference\n",
        "!pip install -r /content/Advanced-RVC-Inference/requirements.txt\n",
        "\n",
        "!aria2c --console-log-level=error -c -x 16 -s 16 -k 1M https://huggingface.co/lj1995/VoiceConversionWebUI/resolve/main/hubert_base.pt -d /content/Advanced-RVC-Inference -o hubert_base.pt\n",
        "!aria2c --console-log-level=error -c -x 16 -s 16 -k 1M https://huggingface.co/lj1995/VoiceConversionWebUI/resolve/main/rmvpe.pt -d /content/Advanced-RVC-Inference -o rmvpe.pt"
      ]
    },
    {
      "cell_type": "markdown",
      "source": [
        "## Run Start the GUI, then open the public URL. It's gonna look like this:\n",
        "![alt text](https://i.imgur.com/ZjuyG29.png)\n",
        "\n",
        "\n",
        "You can download from any link you have as long as it's RVC and from HuggingFace\n",
        "\n",
        "Biggest organized voice collection at #voice-models in https://discord.gg/aihub\n",
        "\n",
        "Model archive spreadsheet, sorted by popularity: https://docs.google.com/spreadsheets/d/1tAUaQrEHYgRsm1Lvrnj14HFHDwJWl0Bd9x0QePewNco/\n",
        "\n",
        "Here's an example model that you can use: https://huggingface.co/kalomaze/KanyeV2_Redux/resolve/main/KanyeV2_REDUX_40khz.zip\n",
        "\n",
        "Try to limit your input audio from 30 seconds to 3 minutes\n",
        "\n"
      ],
      "metadata": {
        "id": "VmcpdeXL-CGV"
      }
    },
    {
      "cell_type": "code",
      "execution_count": null,
      "metadata": {
        "id": "T_mdF-2j9gUh"
      },
      "outputs": [],
      "source": [
        "#@title Run this code if you are running it from google colab\n",
        "%cd /content/Advanced-RVC-Inference\n",
        "!python infer.py --colab"
      ]
    },
    {
      "cell_type": "code",
      "source": [
        "#@title Run this code if you are running it locally\n",
        "cd Advanced-RVC-Inference\n",
        "python infer.py"
      ],
      "metadata": {
        "id": "jhsk4Zn4FiA2"
      },
      "execution_count": null,
      "outputs": []
    },
    {
      "cell_type": "code",
      "source": [
        "#@title Run this code if you are running it on windows\n",
        "cd Advanced-RVC-Inference\n",
        "Open run.bat"
      ],
      "metadata": {
        "id": "uAgzTfBGFh4o"
      },
      "execution_count": null,
      "outputs": []
    },
    {
      "cell_type": "markdown",
      "source": [
        "##Credits\n",
        "**ArkanDash** - Original colab author. Made easy GUI for RVC. More information can be found here: https://github.com/ArkanDash/Advanced-RVC-Inference/tree/master<br>\n",
        "**RVC-Project dev team** - Original RVC software developers <br>\n",
        "**Artificial Nouveau** updated the notebook for workshops\n",
        "\n",
        "\n",
        "---------------\n",
        "\n",
        "Backup model archive (outdated): https://huggingface.co/QuickWick/Music-AI-Voices/tree/main"
      ],
      "metadata": {
        "id": "fTFCiywl-vA8"
      }
    },
    {
      "cell_type": "code",
      "source": [],
      "metadata": {
        "id": "4brgwPdBGDNH"
      },
      "execution_count": null,
      "outputs": []
    }
  ],
  "metadata": {
    "language_info": {
      "name": "python"
    },
    "orig_nbformat": 4,
    "colab": {
      "provenance": []
    },
    "kernelspec": {
      "name": "python3",
      "display_name": "Python 3"
    }
  },
  "nbformat": 4,
  "nbformat_minor": 0
}